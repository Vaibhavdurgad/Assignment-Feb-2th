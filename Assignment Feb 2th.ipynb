{
 "cells": [
  {
   "cell_type": "markdown",
   "id": "d364f013-7ccb-4a07-8514-41f472ff3e2a",
   "metadata": {},
   "source": [
    "1.Explain with an example each when to use a for loop and a while loop."
   ]
  },
  {
   "cell_type": "markdown",
   "id": "d114982f-e6bc-450a-87ff-a2712e2f4a33",
   "metadata": {},
   "source": [
    "For Loop:\n",
    "It is used when the number of iterations is known.\n",
    "In case of no condition, the loop is repeated infinite times.\n",
    "Initialization is not repeated.\n",
    "Statement of Iteration is written after running.\n",
    "Initialization can be in or out of the loop\n",
    "The nature of the increment is simple.\n",
    "Used when initialization is simple.\n",
    "\n",
    "While Loop:\n",
    "It is used when the number of iterations is not known.\n",
    "In case of no condition, an error will be shown.\n",
    "Initialization is repeated if carried out during the stage of checking.\n",
    "It can be written at any place.\n",
    "Initialization is always out of the loop.\n",
    "The nature of the increment is complex.\n",
    "Used when initialization is complex."
   ]
  },
  {
   "cell_type": "markdown",
   "id": "29ecbc8e-da96-49af-8cec-f8f27bb3175b",
   "metadata": {},
   "source": [
    "2.Write a python program to print the sum and product of the first 10 natural numbers using for and while loop."
   ]
  },
  {
   "cell_type": "code",
   "execution_count": 3,
   "id": "ac133368-86f6-47c2-a6e9-141066285af8",
   "metadata": {},
   "outputs": [
    {
     "name": "stdin",
     "output_type": "stream",
     "text": [
      "Enter a number:  10\n"
     ]
    },
    {
     "name": "stdout",
     "output_type": "stream",
     "text": [
      "The sum is 55\n"
     ]
    }
   ],
   "source": [
    "num = int(input(\"Enter a number: \"))  \n",
    "sum = 0   \n",
    "while(num > 0):  \n",
    "    sum =sum+ num  \n",
    "    num =num-1  \n",
    "print(\"The sum is\",sum)  "
   ]
  },
  {
   "cell_type": "code",
   "execution_count": 1,
   "id": "4eef5236-fc2b-4ff2-abb2-472f216c2e6a",
   "metadata": {},
   "outputs": [
    {
     "name": "stdin",
     "output_type": "stream",
     "text": [
      "Enter a number:  10\n"
     ]
    },
    {
     "name": "stdout",
     "output_type": "stream",
     "text": [
      "The sum is 3628800\n"
     ]
    }
   ],
   "source": [
    "num = int(input(\"Enter a number: \"))   \n",
    "sum=1\n",
    "while(num > 0):  \n",
    "    sum =sum*num  \n",
    "    num =num-1  \n",
    "print(\"The sum is\",sum)  "
   ]
  },
  {
   "cell_type": "markdown",
   "id": "17b2a020-81fd-404b-ad6c-4193917db7a2",
   "metadata": {},
   "source": [
    "Q3. Create a python program to compute the electricity bill for a household.\n",
    "The per-unit charges in rupees are as follows: For the first 100 units, the user will be charged Rs. 4.5 per\n",
    "unit, for the next 100 units, the user will be charged Rs. 6 per unit, and for the next 100 units, the user will\n",
    "be charged Rs. 10 per unit, After 300 units and above the user will be charged Rs. 20 per unit.\n",
    "You are required to take the units of electricity consumed in a month from the user as input.\n",
    "Your program must pass this test case: when the unit of electricity consumed by the user in a month is\n",
    "310, the total electricity bill should be 2250."
   ]
  },
  {
   "cell_type": "code",
   "execution_count": null,
   "id": "ab77a1e1-ac73-4626-9374-2c3cbbc320e9",
   "metadata": {},
   "outputs": [],
   "source": [
    "unit = int(input(\"Enter your unit: \"))\n",
    "if unit <= 100:\n",
    "    bill = unit * 4.5\n",
    "elif unit >= 101 and unit <= 200:\n",
    "    bill = 450 + ((unit - 100) * 6)\n",
    "elif unit >= 201 and unit <= 300:\n",
    "    bill = 450 + 1486 + ((unit - 300) * 10.32)\n",
    "else:\n",
    "    bill = 346 + 1486 + 2064 + ((unit - 500) * 11.71)\n",
    "print(\"Bill Per Unit:\",bill)\n",
    "bill = bill + (unit*1.45)\n",
    "print(\"Bill after adding Line rent:\",bill)\n",
    "bill = bill + 100\n",
    "print(\"Bill after adding Meter rent:\",bill)\n",
    "bill = bill + (bill*0.16)\n",
    "print(\"Total Bill after adding tax:\",bill)"
   ]
  },
  {
   "cell_type": "markdown",
   "id": "3cd335ab-bc68-409a-a3d6-8b64081d0bdd",
   "metadata": {},
   "source": [
    "Q4. Create a list of numbers from 1 to 100. Use for loop and while loop to calculate the cube of each\n",
    "number and if the cube of that number is divisible by 4 or 5 then append that number in a list and print\n",
    "that list."
   ]
  },
  {
   "cell_type": "code",
   "execution_count": 2,
   "id": "f6aba8fe-a3a5-43fa-8dbb-5f5e04befc17",
   "metadata": {},
   "outputs": [
    {
     "name": "stdout",
     "output_type": "stream",
     "text": [
      "[8, 64, 125, 216, 512, 1000, 1728, 2744, 3375, 4096, 5832, 8000, 10648, 13824, 15625, 17576, 21952, 27000, 32768, 39304, 42875, 46656, 54872, 64000, 74088, 85184, 91125, 97336, 110592, 125000, 140608, 157464, 166375, 175616, 195112, 216000, 238328, 262144, 274625, 287496, 314432, 343000, 373248, 405224, 421875, 438976, 474552, 512000, 551368, 592704, 614125, 636056, 681472, 729000, 778688, 830584, 857375, 884736, 941192]\n"
     ]
    }
   ],
   "source": [
    "l=range(1,100)\n",
    "l1=[]\n",
    "for i in l:\n",
    "    i=i**3\n",
    "    if i%4==0 or i%5==0:\n",
    "        l1.append(i)\n",
    "print(l1)"
   ]
  },
  {
   "cell_type": "markdown",
   "id": "9b19115b-4b12-4876-8164-a5d335368076",
   "metadata": {},
   "source": [
    "Q5. Write a program to filter count vowels in the below-given string."
   ]
  },
  {
   "cell_type": "code",
   "execution_count": 4,
   "id": "2e6fa4af-281b-4b1d-8cdf-4a6de92386ba",
   "metadata": {},
   "outputs": [
    {
     "name": "stdout",
     "output_type": "stream",
     "text": [
      "12\n"
     ]
    }
   ],
   "source": [
    "string = \"I want to become a data scientist\"\n",
    "vowels=0\n",
    "for i in string:\n",
    "      if(i=='a' or i=='e' or i=='i' or i=='o' or i=='u' or i=='A' or i=='E' or i=='I' or i=='O' or i=='U'):\n",
    "            vowels=vowels+1\n",
    "print(vowels)"
   ]
  },
  {
   "cell_type": "code",
   "execution_count": null,
   "id": "f18ef132-89de-4f0c-9fbd-bd78b33da87d",
   "metadata": {},
   "outputs": [],
   "source": []
  }
 ],
 "metadata": {
  "kernelspec": {
   "display_name": "Python 3 (ipykernel)",
   "language": "python",
   "name": "python3"
  },
  "language_info": {
   "codemirror_mode": {
    "name": "ipython",
    "version": 3
   },
   "file_extension": ".py",
   "mimetype": "text/x-python",
   "name": "python",
   "nbconvert_exporter": "python",
   "pygments_lexer": "ipython3",
   "version": "3.10.8"
  }
 },
 "nbformat": 4,
 "nbformat_minor": 5
}
